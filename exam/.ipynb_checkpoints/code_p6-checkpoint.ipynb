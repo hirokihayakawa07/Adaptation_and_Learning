{
 "cells": [
  {
   "cell_type": "code",
   "execution_count": 2,
   "metadata": {},
   "outputs": [],
   "source": [
    "import numpy as np\n",
    "from numpy import linalg\n",
    "import matplotlib.pyplot as plt\n",
    "from matplotlib import colors as mcolors\n",
    "import random\n",
    "import time\n",
    "np.random.seed(10)"
   ]
  },
  {
   "cell_type": "code",
   "execution_count": 3,
   "metadata": {},
   "outputs": [],
   "source": [
    "R = np.mat([[3,0,4,0,1,5,0,0,1],\n",
    " [3,4,0,0,2,0,4,4,0],\n",
    " [0,5,2,1,1,2,4,5,3],\n",
    " [0,0,0,4,0,0,0,2,5],\n",
    " [3,2,4,0,3,3,3,3,0],\n",
    " [0,3,3,2,2,0,1,0,1],\n",
    " [0,1,0,0,0,3,0,2,4]])\n",
    "n_u = R.shape[0]\n",
    "n_i = R.shape[1]\n",
    "n_m = 15\n",
    "theta_u = np.zeros([n_u,1])\n",
    "alpha_i = np.zeros([n_i,1])\n",
    "W = np.random.rand(n_u, n_m)/np.sqrt(n_m)\n",
    "H = np.random.rand(n_m, n_i)/np.sqrt(n_m)"
   ]
  },
  {
   "cell_type": "code",
   "execution_count": 4,
   "metadata": {},
   "outputs": [],
   "source": [
    "index_nonzero_u, index_nonzero_i = np.nonzero(R)\n",
    "num_nonzero = len(index_nonzero_u)"
   ]
  },
  {
   "cell_type": "code",
   "execution_count": 5,
   "metadata": {},
   "outputs": [],
   "source": [
    "parameter = {}\n",
    "parameter['W0'] = np.random.rand(n_u, n_m)/np.sqrt(n_m)\n",
    "parameter['H0'] = np.random.rand(n_m, n_i)/np.sqrt(n_m)\n",
    "parameter['theta_u0'] = np.zeros([n_u,1])\n",
    "parameter['alpha_i0'] = np.zeros([n_i,1])\n",
    "parameter['num_epoch'] = 5000\n",
    "parameter['num_nonzero'] = len(index_nonzero_u)\n",
    "parameter['mu'] = 0.01\n",
    "parameter['rho'] = 0.01\n",
    "parameter['index_nonzero_u'] = index_nonzero_u\n",
    "parameter['index_nonzero_i'] = index_nonzero_i\n",
    "rho = 1"
   ]
  },
  {
   "cell_type": "code",
   "execution_count": 6,
   "metadata": {},
   "outputs": [],
   "source": [
    "def fx(H, W, theta_u, alpha_i, R, rho):\n",
    "    cost,cost1,cost2,cost3 = 0,0,0,0\n",
    "    index_nonzero_u, index_nonzero_i = np.nonzero(R)\n",
    "    num_nonzero = len(index_nonzero_u)\n",
    "    for u,i in zip(index_nonzero_u, index_nonzero_i):\n",
    "        cost1 += (R[u,i] - H[:,i].T.dot(W[u])+theta_u[u]+alpha_i[i])**2\n",
    "    for i_h in range(H.shape[1]):\n",
    "        cost2 += np.linalg.norm(H[:,i_h], 2)**2\n",
    "    for i_w in range(W.shape[0]):\n",
    "        cost3 += np.linalg.norm(W[i_w], 2)**2\n",
    "    cost = cost1 + rho*(cost2 + cost3)\n",
    "    return cost"
   ]
  },
  {
   "cell_type": "code",
   "execution_count": 7,
   "metadata": {},
   "outputs": [],
   "source": [
    "def SGD(fx, R, parameter):\n",
    "    # Initialize x and alpha.\n",
    "    W = parameter['W0']\n",
    "    H = parameter['H0']\n",
    "    theta_u = parameter['theta_u0']\n",
    "    alpha_i = parameter['alpha_i0']\n",
    "    num_epoch = parameter['num_epoch']\n",
    "    num_zero = parameter['num_nonzero']\n",
    "    mu = parameter['mu']\n",
    "    rho = parameter['rho']\n",
    "    index_nonzero_u = parameter['index_nonzero_u']\n",
    "    index_nonzero_i = parameter['index_nonzero_i'] \n",
    "    e = 0\n",
    "    info = {'fx': np.zeros(num_epoch)}\n",
    "    # Main loop.\n",
    "    for epoch in range(num_epoch):\n",
    "        r_k = np.random.randint(0, num_nonzero)\n",
    "        idx_u, idx_i = index_nonzero_u[r_k], index_nonzero_i[r_k]\n",
    "        e = R[idx_u, idx_i] - H[:,idx_i].T.dot(W[idx_u]) + theta_u[idx_u] + alpha_i[idx_i]\n",
    "        wu_temp = W[idx_u,:].copy()\n",
    "        hi_temp = H[:,idx_i].copy()\n",
    "        W[idx_u] = (1-2*mu*rho)*wu_temp + 2*mu*e*hi_temp.T\n",
    "        H[:,idx_i] = (1-2*mu*rho)*hi_temp + 2*mu*e*wu_temp.T\n",
    "        theta_u[idx_u] += 2*mu*e\n",
    "        alpha_i[idx_i] += 2*mu*e\n",
    "        info['fx'][epoch] = fx(H, W, theta_u, alpha_i, R, rho)\n",
    "        if (epoch % 100 == 0) or (epoch == 0):\n",
    "            print('Iter = {:4d},  f(x) = {:0.9f}'.format(epoch, info['fx'][epoch]))\n",
    "    info['H'] = H\n",
    "    info['W'] = W\n",
    "    info['theta_u'] = theta_u\n",
    "    info['alpha_i'] = alpha_i\n",
    "\n",
    "    return info"
   ]
  },
  {
   "cell_type": "code",
   "execution_count": 8,
   "metadata": {},
   "outputs": [
    {
     "name": "stdout",
     "output_type": "stream",
     "text": [
      "Iter =    0,  f(x) = 312.105526281\n",
      "Iter =  100,  f(x) = 430.094649549\n",
      "Iter =  200,  f(x) = 140.900854640\n",
      "Iter =  300,  f(x) = 54.835845805\n",
      "Iter =  400,  f(x) = 47.379520422\n",
      "Iter =  500,  f(x) = 41.003166542\n",
      "Iter =  600,  f(x) = 40.318359090\n",
      "Iter =  700,  f(x) = 33.800286492\n",
      "Iter =  800,  f(x) = 29.082249336\n",
      "Iter =  900,  f(x) = 29.150210022\n",
      "Iter = 1000,  f(x) = 23.253540809\n",
      "Iter = 1100,  f(x) = 18.767546193\n",
      "Iter = 1200,  f(x) = 14.116170332\n",
      "Iter = 1300,  f(x) = 11.409927337\n",
      "Iter = 1400,  f(x) = 7.998080821\n",
      "Iter = 1500,  f(x) = 5.995034762\n",
      "Iter = 1600,  f(x) = 5.296129174\n",
      "Iter = 1700,  f(x) = 4.372992918\n",
      "Iter = 1800,  f(x) = 3.540179686\n",
      "Iter = 1900,  f(x) = 2.932794556\n",
      "Iter = 2000,  f(x) = 2.743773820\n",
      "Iter = 2100,  f(x) = 2.331874126\n",
      "Iter = 2200,  f(x) = 2.244742419\n",
      "Iter = 2300,  f(x) = 2.135035559\n",
      "Iter = 2400,  f(x) = 1.917245647\n",
      "Iter = 2500,  f(x) = 1.893135513\n",
      "Iter = 2600,  f(x) = 1.756197449\n",
      "Iter = 2700,  f(x) = 1.685840765\n",
      "Iter = 2800,  f(x) = 1.617953425\n",
      "Iter = 2900,  f(x) = 1.639501429\n",
      "Iter = 3000,  f(x) = 1.596583172\n",
      "Iter = 3100,  f(x) = 1.538813935\n",
      "Iter = 3200,  f(x) = 1.492906149\n",
      "Iter = 3300,  f(x) = 1.506795090\n",
      "Iter = 3400,  f(x) = 1.478872586\n",
      "Iter = 3500,  f(x) = 1.467447333\n",
      "Iter = 3600,  f(x) = 1.457915360\n",
      "Iter = 3700,  f(x) = 1.454134665\n",
      "Iter = 3800,  f(x) = 1.436500802\n",
      "Iter = 3900,  f(x) = 1.424216461\n",
      "Iter = 4000,  f(x) = 1.441280976\n",
      "Iter = 4100,  f(x) = 1.432328015\n",
      "Iter = 4200,  f(x) = 1.398583726\n",
      "Iter = 4300,  f(x) = 1.404421167\n",
      "Iter = 4400,  f(x) = 1.395253674\n",
      "Iter = 4500,  f(x) = 1.401578133\n",
      "Iter = 4600,  f(x) = 1.403644656\n",
      "Iter = 4700,  f(x) = 1.390031521\n",
      "Iter = 4800,  f(x) = 1.391870834\n",
      "Iter = 4900,  f(x) = 1.398356375\n"
     ]
    }
   ],
   "source": [
    "info = SGD(fx, R, parameter)"
   ]
  },
  {
   "cell_type": "code",
   "execution_count": 9,
   "metadata": {},
   "outputs": [
    {
     "data": {
      "image/png": "[encoded data removed]",
      "text/plain": [
       "<Figure size 432x288 with 1 Axes>"
      ]
     },
     "metadata": {
      "needs_background": "light"
     },
     "output_type": "display_data"
    }
   ],
   "source": [
    "x = range(parameter['num_epoch'])\n",
    "y = info['fx']\n",
    "plt.plot(x,y)\n",
    "plt.yscale('log')\n",
    "plt.grid(color='k', linestyle='--', linewidth=0.5)\n",
    "plt.xlabel('epoch')\n",
    "plt.ylabel('Loss')\n",
    "plt.title('Learning curves (logarithmic scale)')\n",
    "plt.savefig('p6_1.pdf')\n",
    "plt.show()"
   ]
  },
  {
   "cell_type": "code",
   "execution_count": 10,
   "metadata": {},
   "outputs": [],
   "source": [
    "# Make prediction\n",
    "R_pred =  np.round(info['W'].dot(info['H']) - info['theta_u'].dot(np.ones([1,n_i])) - np.ones([n_u,1]).dot(info['alpha_i'].T)).astype(int)"
   ]
  },
  {
   "cell_type": "code",
   "execution_count": 11,
   "metadata": {},
   "outputs": [
    {
     "name": "stdout",
     "output_type": "stream",
     "text": [
      "Prediction:\n",
      " [[3 4 4 2 1 5 3 4 1]\n",
      " [3 4 4 2 2 3 4 4 3]\n",
      " [2 5 2 1 1 2 4 5 3]\n",
      " [3 1 4 4 3 3 3 2 5]\n",
      " [3 2 4 3 3 3 3 3 3]\n",
      " [2 3 3 2 2 2 1 2 1]\n",
      " [2 1 3 3 1 3 3 2 4]] \n",
      " \n",
      " Original matrix:\n",
      " [[3 0 4 0 1 5 0 0 1]\n",
      " [3 4 0 0 2 0 4 4 0]\n",
      " [0 5 2 1 1 2 4 5 3]\n",
      " [0 0 0 4 0 0 0 2 5]\n",
      " [3 2 4 0 3 3 3 3 0]\n",
      " [0 3 3 2 2 0 1 0 1]\n",
      " [0 1 0 0 0 3 0 2 4]]\n"
     ]
    }
   ],
   "source": [
    "print('Prediction:\\n',R_pred,'\\n','\\n','Original matrix:\\n',R)"
   ]
  },
  {
   "cell_type": "code",
   "execution_count": null,
   "metadata": {},
   "outputs": [],
   "source": []
  },
  {
   "cell_type": "code",
   "execution_count": null,
   "metadata": {},
   "outputs": [],
   "source": []
  }
 ],
 "metadata": {
  "kernelspec": {
   "display_name": "Python 3",
   "language": "python",
   "name": "python3"
  },
  "language_info": {
   "codemirror_mode": {
    "name": "ipython",
    "version": 3
   },
   "file_extension": ".py",
   "mimetype": "text/x-python",
   "name": "python",
   "nbconvert_exporter": "python",
   "pygments_lexer": "ipython3",
   "version": "3.7.6"
  }
 },
 "nbformat": 4,
 "nbformat_minor": 4
}
