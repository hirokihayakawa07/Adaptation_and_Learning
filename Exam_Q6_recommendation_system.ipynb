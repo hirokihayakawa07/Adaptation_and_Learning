{
 "cells": [
  {
   "cell_type": "markdown",
   "metadata": {},
   "source": [
    "## Adaptation and Learning Exam Q6"
   ]
  },
  {
   "cell_type": "markdown",
   "metadata": {},
   "source": [
    "#### Initial setting"
   ]
  },
  {
   "cell_type": "code",
   "execution_count": 2,
   "metadata": {},
   "outputs": [],
   "source": [
    "# import libraries\n",
    "import numpy as np\n",
    "import numpy.linalg as lg\n",
    "import matplotlib.pyplot as plt\n",
    "from tqdm import tqdm"
   ]
  },
  {
   "cell_type": "code",
   "execution_count": 342,
   "metadata": {},
   "outputs": [],
   "source": [
    "# set parameters\n",
    "params = {\n",
    "    'mu':0.01,\n",
    "    'rho':0.1,\n",
    "    'maxit': 2000\n",
    "}"
   ]
  },
  {
   "cell_type": "code",
   "execution_count": 356,
   "metadata": {},
   "outputs": [],
   "source": [
    "# set initial condition\n",
    "R = np.array([[3,0,4,0,1,5,0,0,1],\n",
    "              [3,4,0,0,2,0,4,4,0],\n",
    "              [0,5,2,1,1,2,4,5,3],\n",
    "              [0,0,0,4,0,0,0,2,5],\n",
    "              [3,2,4,0,3,3,3,3,0],\n",
    "              [0,3,3,2,2,0,1,0,1],\n",
    "              [0,1,0,0,0,3,0,2,4]])\n",
    "# R = np.array([[1,0,2],[0,2,3],[1,2,0]])\n",
    "idx_u,idx_i = np.nonzero(R)\n",
    "num_u = R.shape[0] # num of users\n",
    "num_i = R.shape[1] # num of movies\n",
    "num_feature = 10 # num of features\n",
    "H = np.random.rand(num_feature, num_i)/np.sqrt(num_feature)\n",
    "W = np.random.rand(num_u, num_feature)/np.sqrt(num_feature)\n",
    "theta = np.random.rand(num_u)/np.sqrt(num_feature)\n",
    "alpha = np.random.rand(num_i)/np.sqrt(num_feature)"
   ]
  },
  {
   "cell_type": "code",
   "execution_count": 335,
   "metadata": {},
   "outputs": [],
   "source": [
    "# define cost function\n",
    "def cost(R, H, W, idx_u, idx_i, params):\n",
    "    rho = params['rho']\n",
    "    sum_r = 0\n",
    "    for k in range(len(idx_u)):\n",
    "        u = idx_u[k]\n",
    "        i = idx_i[k]\n",
    "        sum_r += (R[u,i] - H[:,i]@W[u,:] + theta[u] + alpha[i])**2\n",
    "    return rho*(lg.norm(H)**2+lg.norm(W)**2) + sum_r"
   ]
  },
  {
   "cell_type": "code",
   "execution_count": 278,
   "metadata": {
    "jupyter": {
     "source_hidden": true
    }
   },
   "outputs": [],
   "source": [
    "def cost1(R, H, W, idx_u, idx_i, params):\n",
    "    rho = params['rho']\n",
    "    sum_r = 0\n",
    "    for k in range(len(idx_u)):\n",
    "        u = idx_u[k]\n",
    "        i = idx_i[k]\n",
    "        sum_r += (R[u,i] - H[:,i]@W[u,:] + theta[u] + alpha[i])**2\n",
    "    return rho*(lg.norm(H)**2+lg.norm(W)**2)"
   ]
  },
  {
   "cell_type": "code",
   "execution_count": 279,
   "metadata": {
    "jupyter": {
     "source_hidden": true
    }
   },
   "outputs": [],
   "source": [
    "def cost2(R, H, W, idx_u, idx_i, params):\n",
    "    rho = params['rho']\n",
    "    sum_r = 0\n",
    "    for k in range(len(idx_u)):\n",
    "        u = idx_u[k]\n",
    "        i = idx_i[k]\n",
    "        sum_r += (R[u,i] - H[:,i]@W[u,:] + theta[u] + alpha[i])**2\n",
    "    return sum_r"
   ]
  },
  {
   "cell_type": "code",
   "execution_count": 338,
   "metadata": {},
   "outputs": [],
   "source": [
    "# perform martrix factorization\n",
    "def matrix_factoriztion(R, idx_u, idx_i, H, W, theta, alpha, params):\n",
    "    mu = params['mu']\n",
    "    rho = params['rho']\n",
    "    log = []\n",
    "    for n in range(params['maxit']):\n",
    "        log.append(cost(R, H, W, idx_u, idx_i, params))\n",
    "        k = np.random.randint(len(idx_i))\n",
    "        u = idx_u[k]\n",
    "        i = idx_i[k]\n",
    "        e = R[u,i] - H[:,i]@W[u,:] + theta[u] + alpha[i]\n",
    "        w_u = W[u,:].copy()\n",
    "        W[u,:] = (1-2*mu*rho)*w_u + 2*mu*H[:,i]*e\n",
    "        H[:,i] = (1-2*mu*rho)*H[:,i] + 2*mu*w_u*e\n",
    "        theta[u] = theta[u] + 2*mu*e\n",
    "        alpha[i] = alpha[i] + 2*mu*e\n",
    "    return W,H,theta,alpha,log"
   ]
  },
  {
   "cell_type": "code",
   "execution_count": 337,
   "metadata": {},
   "outputs": [],
   "source": [
    "# reconstructed reputation matrix\n",
    "def R_recov(W,H,theta,alpha,num_i,num_u):\n",
    "    return W@H - np.outer(theta,np.ones(num_i)) - np.outer(np.ones(num_u), alpha)"
   ]
  },
  {
   "cell_type": "code",
   "execution_count": 357,
   "metadata": {},
   "outputs": [],
   "source": [
    "# do simulation\n",
    "W,H,theta,alpha,log = matrix_factoriztion(R, idx_u, idx_i, H, W, theta, alpha, params)"
   ]
  },
  {
   "cell_type": "code",
   "execution_count": 358,
   "metadata": {},
   "outputs": [
    {
     "data": {
      "text/plain": [
       "[<matplotlib.lines.Line2D at 0x7f5d8447a350>]"
      ]
     },
     "execution_count": 358,
     "metadata": {},
     "output_type": "execute_result"
    },
    {
     "data": {
      "image/png": "[encoded data removed]",
      "text/plain": [
       "<Figure size 432x288 with 1 Axes>"
      ]
     },
     "metadata": {
      "needs_background": "light"
     },
     "output_type": "display_data"
    }
   ],
   "source": [
    "# ensure the cost converge as iteration goes\n",
    "plt.plot(log)"
   ]
  },
  {
   "cell_type": "code",
   "execution_count": 359,
   "metadata": {},
   "outputs": [
    {
     "data": {
      "text/plain": [
       "array([[3, 2, 4, 2, 2, 4, 2, 3, 1],\n",
       "       [3, 4, 3, 2, 2, 3, 4, 4, 3],\n",
       "       [2, 4, 2, 1, 1, 2, 4, 4, 3],\n",
       "       [3, 3, 3, 4, 2, 3, 3, 3, 5],\n",
       "       [3, 2, 3, 2, 2, 3, 2, 3, 2],\n",
       "       [2, 2, 3, 2, 2, 2, 2, 2, 1],\n",
       "       [2, 2, 2, 2, 1, 3, 3, 2, 4]])"
      ]
     },
     "execution_count": 359,
     "metadata": {},
     "output_type": "execute_result"
    }
   ],
   "source": [
    "# compare reconstructed R and original R\n",
    "np.round(R_recov(W,H,theta,alpha,num_i,num_u),decimals=0).astype(int)"
   ]
  },
  {
   "cell_type": "code",
   "execution_count": 360,
   "metadata": {},
   "outputs": [
    {
     "data": {
      "text/plain": [
       "array([[3, 0, 4, 0, 1, 5, 0, 0, 1],\n",
       "       [3, 4, 0, 0, 2, 0, 4, 4, 0],\n",
       "       [0, 5, 2, 1, 1, 2, 4, 5, 3],\n",
       "       [0, 0, 0, 4, 0, 0, 0, 2, 5],\n",
       "       [3, 2, 4, 0, 3, 3, 3, 3, 0],\n",
       "       [0, 3, 3, 2, 2, 0, 1, 0, 1],\n",
       "       [0, 1, 0, 0, 0, 3, 0, 2, 4]])"
      ]
     },
     "execution_count": 360,
     "metadata": {},
     "output_type": "execute_result"
    }
   ],
   "source": [
    "R"
   ]
  }
 ],
 "metadata": {
  "kernelspec": {
   "display_name": "Python 3",
   "language": "python",
   "name": "python3"
  },
  "language_info": {
   "codemirror_mode": {
    "name": "ipython",
    "version": 3
   },
   "file_extension": ".py",
   "mimetype": "text/x-python",
   "name": "python",
   "nbconvert_exporter": "python",
   "pygments_lexer": "ipython3",
   "version": "3.7.4"
  }
 },
 "nbformat": 4,
 "nbformat_minor": 4
}
