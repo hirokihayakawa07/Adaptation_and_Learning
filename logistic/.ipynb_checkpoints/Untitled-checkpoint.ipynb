{
 "cells": [
  {
   "cell_type": "code",
   "execution_count": 14,
   "metadata": {},
   "outputs": [
    {
     "name": "stderr",
     "output_type": "stream",
     "text": [
      "/mnt/c/linux_home/anaconda3/lib/python3.7/site-packages/ipykernel_launcher.py:19: SettingWithCopyWarning: \n",
      "A value is trying to be set on a copy of a slice from a DataFrame\n",
      "\n",
      "See the caveats in the documentation: http://pandas.pydata.org/pandas-docs/stable/user_guide/indexing.html#returning-a-view-versus-a-copy\n"
     ]
    },
    {
     "name": "stdout",
     "output_type": "stream",
     "text": [
      "Splitting the spam dataset into train and test...\n",
      "Scaling the dataset...\n",
      "Running Logistic Regression with Fast Gradient Descent..\n",
      "Error on Training set =  0.06983695652173913\n",
      "Error on Test set =  0.1391304347826087\n"
     ]
    }
   ],
   "source": [
    "##########################################\n",
    "# Demo file demonstrating logistic regression\n",
    "# using fastgradientDescent on a real world dataset\n",
    "##########################################\n",
    "\n",
    "import pandas as pd\n",
    "import matplotlib.pyplot as mpl\n",
    "import logRegFastGradientDescent\n",
    "from sklearn import preprocessing\n",
    "\n",
    "#######################\n",
    "# Here, you can find the spam.data.txt in the repository\n",
    "# This data was obtained from https://statweb.stanford.edu/~tibs/ElemStatLearn/\n",
    "#######################\n",
    "\n",
    "data = pd.read_csv('spam.data.txt', header = None, sep = ' ')\n",
    "features = data[data.columns[0:57]]\n",
    "labels = data[57]\n",
    "labels[ labels == 0 ] = -1\n",
    "\n",
    "# Splitting dataset into train and test set (80:20)\n",
    "print(\"Splitting the spam dataset into train and test...\")\n",
    "featuresTrain = features[ 0 : int( 0.8 * len( features ) ) ]\n",
    "featuresTest = features[ int( 0.8 * len( features ) ) + 1: ]\n",
    "labelsTrain = labels[ 0 : int( 0.8 * len( labels ) ) ]\n",
    "labelsTest = labels[ int ( 0.8 * len( labels ) ) + 1: ]\n",
    "\n",
    "# Scaling the dataset\n",
    "print(\"Scaling the dataset...\")\n",
    "scaler = preprocessing.StandardScaler().fit(featuresTrain)\n",
    "featuresTrain = scaler.transform(featuresTrain)\n",
    "featuresTest = scaler.transform(featuresTest)\n",
    "\n",
    "lamda = 1\n",
    "maxIter = 1000\n",
    "InitStepSize = 0.01\n",
    "\n",
    "print(\"Running Logistic Regression with Fast Gradient Descent..\")\n",
    "# Running Fast Gradient Descent\n",
    "( lossFunctionValuesFastGrad, betaValuesFastGrad ) = logRegFastGradientDescent.fastGradDescent( featuresTrain, labelsTrain, 0.01, InitStepSize, maxIter )\n",
    "\n",
    "# Find Error on training set\n",
    "finalBeta = betaValuesFastGrad[-1]\n",
    "print(\"Error on Training set = \",  logRegFastGradientDescent.misclassificationError( finalBeta, featuresTrain, labelsTrain ) )\n",
    "\n",
    "# Find Error on test set\n",
    "print(\"Error on Test set = \",  logRegFastGradientDescent.misclassificationError( finalBeta, featuresTest, labelsTest ) )"
   ]
  },
  {
   "cell_type": "code",
   "execution_count": 21,
   "metadata": {},
   "outputs": [
    {
     "data": {
      "text/plain": [
       "(4601, 57)"
      ]
     },
     "execution_count": 21,
     "metadata": {},
     "output_type": "execute_result"
    }
   ],
   "source": [
    "features.shape"
   ]
  },
  {
   "cell_type": "code",
   "execution_count": 16,
   "metadata": {},
   "outputs": [],
   "source": [
    "import numpy as np\n",
    "from numpy import linalg\n",
    "import matplotlib.pyplot as plt\n",
    "from tqdm import tqdm"
   ]
  },
  {
   "cell_type": "code",
   "execution_count": 19,
   "metadata": {},
   "outputs": [],
   "source": [
    "# parameter\n",
    "params = {\n",
    "    'rho': 1.0,\n",
    "    'mu':0.0001,\n",
    "    'M': 10,\n",
    "    'N': 500,\n",
    "    'maxit': 500,\n",
    "    'w_gt': np.random.randn(10)\n",
    "}"
   ]
  },
  {
   "cell_type": "code",
   "execution_count": 20,
   "metadata": {},
   "outputs": [],
   "source": [
    "# create data set\n",
    "h = np.random.randn(params['M'],params['N'])\n",
    "gamma = 1 / (1 + np.exp(-np.transpose(h)@params['w_gt']))\n",
    "gamma = (gamma > 0.5)*2.0 -1.0"
   ]
  },
  {
   "cell_type": "code",
   "execution_count": 22,
   "metadata": {},
   "outputs": [
    {
     "name": "stdout",
     "output_type": "stream",
     "text": [
      "Splitting the spam dataset into train and test...\n",
      "Scaling the dataset...\n",
      "Running Logistic Regression with Fast Gradient Descent..\n",
      "Error on Training set =  0.02\n",
      "Error on Test set =  0.030303030303030304\n"
     ]
    }
   ],
   "source": [
    "##########################################\n",
    "# Demo file demonstrating logistic regression\n",
    "# using fastgradientDescent on a real world dataset\n",
    "##########################################\n",
    "\n",
    "import pandas as pd\n",
    "import matplotlib.pyplot as mpl\n",
    "import logRegFastGradientDescent\n",
    "from sklearn import preprocessing\n",
    "\n",
    "#######################\n",
    "# Here, you can find the spam.data.txt in the repository\n",
    "# This data was obtained from https://statweb.stanford.edu/~tibs/ElemStatLearn/\n",
    "#######################\n",
    "\n",
    "features = np.transpose(h)\n",
    "labels = gamma\n",
    "\n",
    "# Splitting dataset into train and test set (80:20)\n",
    "print(\"Splitting the spam dataset into train and test...\")\n",
    "featuresTrain = features[ 0 : int( 0.8 * len( features ) ) ]\n",
    "featuresTest = features[ int( 0.8 * len( features ) ) + 1: ]\n",
    "labelsTrain = labels[ 0 : int( 0.8 * len( labels ) ) ]\n",
    "labelsTest = labels[ int ( 0.8 * len( labels ) ) + 1: ]\n",
    "\n",
    "# Scaling the dataset\n",
    "print(\"Scaling the dataset...\")\n",
    "scaler = preprocessing.StandardScaler().fit(featuresTrain)\n",
    "featuresTrain = scaler.transform(featuresTrain)\n",
    "featuresTest = scaler.transform(featuresTest)\n",
    "\n",
    "lamda = 1\n",
    "maxIter = 1000\n",
    "InitStepSize = 0.01\n",
    "\n",
    "print(\"Running Logistic Regression with Fast Gradient Descent..\")\n",
    "# Running Fast Gradient Descent\n",
    "( lossFunctionValuesFastGrad, betaValuesFastGrad ) = logRegFastGradientDescent.fastGradDescent( featuresTrain, labelsTrain, 0.01, InitStepSize, maxIter )\n",
    "\n",
    "# Find Error on training set\n",
    "finalBeta = betaValuesFastGrad[-1]\n",
    "print(\"Error on Training set = \",  logRegFastGradientDescent.misclassificationError( finalBeta, featuresTrain, labelsTrain ) )\n",
    "\n",
    "# Find Error on test set\n",
    "print(\"Error on Test set = \",  logRegFastGradientDescent.misclassificationError( finalBeta, featuresTest, labelsTest ) )"
   ]
  },
  {
   "cell_type": "code",
   "execution_count": 23,
   "metadata": {},
   "outputs": [
    {
     "data": {
      "text/plain": [
       "1000"
      ]
     },
     "execution_count": 23,
     "metadata": {},
     "output_type": "execute_result"
    }
   ],
   "source": [
    "len(lossFunctionValuesFastGrad)"
   ]
  },
  {
   "cell_type": "code",
   "execution_count": 24,
   "metadata": {},
   "outputs": [
    {
     "data": {
      "image/png": "[encoded data removed]",
      "text/plain": [
       "<Figure size 432x288 with 1 Axes>"
      ]
     },
     "metadata": {
      "needs_background": "light"
     },
     "output_type": "display_data"
    }
   ],
   "source": [
    "mpl.plot(range(1000),lossFunctionValuesFastGrad)\n",
    "mpl.yscale('log')\n",
    "mpl.show()"
   ]
  },
  {
   "cell_type": "code",
   "execution_count": 10,
   "metadata": {},
   "outputs": [
    {
     "data": {
      "text/plain": [
       "0.2726389581568786"
      ]
     },
     "execution_count": 10,
     "metadata": {},
     "output_type": "execute_result"
    }
   ],
   "source": [
    "min(lossFunctionValuesFastGrad)"
   ]
  },
  {
   "cell_type": "code",
   "execution_count": null,
   "metadata": {},
   "outputs": [],
   "source": []
  }
 ],
 "metadata": {
  "kernelspec": {
   "display_name": "Python 3",
   "language": "python",
   "name": "python3"
  },
  "language_info": {
   "codemirror_mode": {
    "name": "ipython",
    "version": 3
   },
   "file_extension": ".py",
   "mimetype": "text/x-python",
   "name": "python",
   "nbconvert_exporter": "python",
   "pygments_lexer": "ipython3",
   "version": "3.7.4"
  }
 },
 "nbformat": 4,
 "nbformat_minor": 4
}
