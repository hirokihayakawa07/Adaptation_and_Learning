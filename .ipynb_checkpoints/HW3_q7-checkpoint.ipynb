{
 "cells": [
  {
   "cell_type": "markdown",
   "metadata": {},
   "source": [
    "## Adaptation and Learning HW3 Q7"
   ]
  },
  {
   "cell_type": "markdown",
   "metadata": {},
   "source": [
    "#### Initial setting"
   ]
  },
  {
   "cell_type": "code",
   "execution_count": 95,
   "metadata": {},
   "outputs": [],
   "source": [
    "# import libraries\n",
    "import numpy as np\n",
    "import numpy.linalg as lg\n",
    "import matplotlib.pyplot as plt\n",
    "from tqdm import tqdm"
   ]
  },
  {
   "cell_type": "code",
   "execution_count": 96,
   "metadata": {},
   "outputs": [],
   "source": [
    "# set parameters\n",
    "params = {\n",
    "    'rho': 1.0,\n",
    "    'mu':0.01,\n",
    "    'M': 10,\n",
    "    'N': 250,\n",
    "    'maxit': 2000,\n",
    "    'w_gt': np.random.randn(10),\n",
    "    'w_init': np.zeros(10),\n",
    "}"
   ]
  },
  {
   "cell_type": "code",
   "execution_count": 144,
   "metadata": {},
   "outputs": [],
   "source": [
    "# create data set\n",
    "w_gt = params['w_gt']\n",
    "h_s = np.random.randn(params['M'],params['N'])+2 # class +1\n",
    "h_t = np.random.randn(params['M'],params['N'])-2 # class -1\n",
    "h = np.concatenate([h_s,h_t],1)\n",
    "sigma = np.concatenate([np.ones(params['N']), -np.ones(params['N'])])\n",
    "gamma_s = (h_s.T@w_gt>=0)*2.0 - 1.0\n",
    "gamma_t = (h_t.T@w_gt>=0)*2.0 - 1.0"
   ]
  },
  {
   "cell_type": "markdown",
   "metadata": {},
   "source": [
    "#### Define required functions"
   ]
  },
  {
   "cell_type": "code",
   "execution_count": 145,
   "metadata": {},
   "outputs": [],
   "source": [
    "def risk_logistic(w, gamma, h, params):\n",
    "    return np.log(1 + np.exp(-gamma*(np.transpose(h)@w)))"
   ]
  },
  {
   "cell_type": "code",
   "execution_count": 146,
   "metadata": {},
   "outputs": [],
   "source": [
    "def Pw(w, gamma, h, params):\n",
    "    return params['rho']*linalg.norm(w)**2 + 1/params['N'] * sum(risk_logistic(w, gamma, h, params))"
   ]
  },
  {
   "cell_type": "code",
   "execution_count": 147,
   "metadata": {},
   "outputs": [],
   "source": [
    "def grad_logistic(w, gamma_m, h_m, params):\n",
    "    return 2*params['rho']*w - gamma_m*h_m / (1 + np.exp(gamma_m*h_m@w))"
   ]
  },
  {
   "cell_type": "code",
   "execution_count": 148,
   "metadata": {},
   "outputs": [],
   "source": [
    "def sgd(gamma, h, params, gamma_t, h_t, alpha=np.ones(params['N'])):\n",
    "#     np.random.seed(seed=1)\n",
    "    w = params['w_init']\n",
    "    mu = params['mu']\n",
    "    loss = []\n",
    "    loss_t = []\n",
    "    for i in range(params['maxit']):\n",
    "        loss.append(Pw(w, gamma, h, params))\n",
    "        loss_t.append(Pw(w, gamma_t, h_t, params))\n",
    "        j = np.random.randint(params['N'])\n",
    "        w = w - mu * alpha[j] * grad_logistic(w, gamma[j], h[:,j], params)\n",
    "    return w, loss, loss_t"
   ]
  },
  {
   "cell_type": "markdown",
   "metadata": {},
   "source": [
    "#### train w_x to classify the class sigma"
   ]
  },
  {
   "cell_type": "code",
   "execution_count": 149,
   "metadata": {},
   "outputs": [],
   "source": [
    "w_x, loss, loss_t = sgd(sigma, h, params, gamma_t, h_t, alpha=np.ones(params['N']))"
   ]
  },
  {
   "cell_type": "code",
   "execution_count": 150,
   "metadata": {},
   "outputs": [
    {
     "name": "stdout",
     "output_type": "stream",
     "text": [
      "0.3539813978851673\n"
     ]
    },
    {
     "data": {
      "image/png": "[encoded data removed]",
      "text/plain": [
       "<Figure size 432x288 with 1 Axes>"
      ]
     },
     "metadata": {
      "needs_background": "light"
     },
     "output_type": "display_data"
    }
   ],
   "source": [
    "# check convergence with the algorithm\n",
    "x = range(params['maxit'])\n",
    "y = loss\n",
    "# y = abs(loss-min(loss)) / (max(loss)-min(loss))\n",
    "print(loss[-1])\n",
    "plt.plot(x,y)\n",
    "plt.yscale('log')\n",
    "plt.show()"
   ]
  },
  {
   "cell_type": "markdown",
   "metadata": {},
   "source": [
    "#### calculate N_S, N_T, Alpha with obtained w_x"
   ]
  },
  {
   "cell_type": "code",
   "execution_count": 151,
   "metadata": {},
   "outputs": [],
   "source": [
    "N_S = np.count_nonzero((h.T@w_x >= 0)*1.0)\n",
    "N_T = h.shape[1] - N_S\n",
    "alpha = N_S / N_T * np.exp(-h_s.T@w_x)"
   ]
  },
  {
   "cell_type": "markdown",
   "metadata": {},
   "source": [
    "#### train w_star with Obtained alpha and h_s, gamma_s"
   ]
  },
  {
   "cell_type": "code",
   "execution_count": 152,
   "metadata": {},
   "outputs": [],
   "source": [
    "w_star, loss_star, loss_t = sgd(gamma_s, h_s, params, gamma_t, h_t, alpha = alpha)"
   ]
  },
  {
   "cell_type": "markdown",
   "metadata": {},
   "source": [
    "#### check if the cost defined with the difference between true gamma_t and calculated gamma_t converges"
   ]
  },
  {
   "cell_type": "code",
   "execution_count": 153,
   "metadata": {},
   "outputs": [
    {
     "name": "stdout",
     "output_type": "stream",
     "text": [
      "0.3539813978851673\n"
     ]
    },
    {
     "data": {
      "image/png": "[encoded data removed]",
      "text/plain": [
       "<Figure size 432x288 with 1 Axes>"
      ]
     },
     "metadata": {
      "needs_background": "light"
     },
     "output_type": "display_data"
    }
   ],
   "source": [
    "# check convergence with the algorithm\n",
    "x = range(params['maxit'])\n",
    "y = loss_t\n",
    "# y = abs(loss-min(loss)) / (max(loss)-min(loss))\n",
    "print(loss[-1])\n",
    "plt.plot(x,y)\n",
    "plt.yscale('log')\n",
    "plt.show()"
   ]
  },
  {
   "cell_type": "markdown",
   "metadata": {},
   "source": [
    "#### compare true gamma_t in target domain and calculated gamma_t"
   ]
  },
  {
   "cell_type": "code",
   "execution_count": 154,
   "metadata": {},
   "outputs": [
    {
     "data": {
      "text/plain": [
       "array([0., 0., 2., 0., 2., 0., 0., 0., 0., 0., 0., 0., 2., 0., 0., 0., 0.,\n",
       "       0., 0., 0., 0., 0., 0., 0., 0., 0., 2., 0., 0., 0., 0., 0., 0., 0.,\n",
       "       0., 2., 0., 0., 0., 0., 0., 0., 0., 0., 0., 0., 2., 0., 0., 0., 0.,\n",
       "       0., 0., 0., 0., 0., 0., 0., 0., 0., 0., 0., 2., 0., 0., 0., 0., 0.,\n",
       "       0., 0., 2., 0., 0., 2., 0., 2., 0., 0., 2., 0., 0., 0., 0., 0., 0.,\n",
       "       0., 0., 0., 0., 2., 0., 2., 0., 0., 0., 0., 0., 0., 0., 0., 0., 0.,\n",
       "       2., 0., 2., 0., 0., 0., 0., 0., 0., 0., 0., 0., 2., 2., 0., 0., 0.,\n",
       "       0., 0., 2., 0., 0., 0., 0., 0., 0., 0., 0., 0., 0., 0., 0., 0., 0.,\n",
       "       0., 0., 0., 0., 0., 0., 0., 0., 0., 0., 0., 2., 0., 0., 0., 0., 0.,\n",
       "       0., 0., 0., 0., 0., 0., 0., 0., 0., 0., 0., 0., 0., 0., 0., 0., 0.,\n",
       "       0., 0., 0., 0., 0., 0., 0., 0., 0., 0., 0., 0., 0., 0., 0., 0., 0.,\n",
       "       0., 2., 0., 0., 0., 0., 0., 0., 0., 0., 0., 0., 0., 0., 0., 0., 0.,\n",
       "       0., 0., 0., 0., 0., 0., 0., 0., 0., 0., 0., 0., 0., 0., 0., 0., 0.,\n",
       "       0., 0., 0., 0., 0., 0., 0., 0., 0., 0., 0., 0., 0., 0., 0., 0., 0.,\n",
       "       0., 2., 0., 0., 2., 0., 2., 0., 0., 0., 0., 0.])"
      ]
     },
     "execution_count": 154,
     "metadata": {},
     "output_type": "execute_result"
    }
   ],
   "source": [
    "gamma_tr = (h_t.T@w_star>=0)*2.0-1.0\n",
    "(gamma_t - gamma_tr)"
   ]
  },
  {
   "cell_type": "code",
   "execution_count": null,
   "metadata": {},
   "outputs": [],
   "source": []
  }
 ],
 "metadata": {
  "kernelspec": {
   "display_name": "Python 3",
   "language": "python",
   "name": "python3"
  },
  "language_info": {
   "codemirror_mode": {
    "name": "ipython",
    "version": 3
   },
   "file_extension": ".py",
   "mimetype": "text/x-python",
   "name": "python",
   "nbconvert_exporter": "python",
   "pygments_lexer": "ipython3",
   "version": "3.7.4"
  }
 },
 "nbformat": 4,
 "nbformat_minor": 4
}
